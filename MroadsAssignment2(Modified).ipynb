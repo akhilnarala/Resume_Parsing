{
 "cells": [
  {
   "cell_type": "code",
   "execution_count": 6,
   "metadata": {},
   "outputs": [
    {
     "name": "stdout",
     "output_type": "stream",
     "text": [
      "\n",
      "\n",
      "\n",
      "\n",
      "\n",
      "\n",
      "\n",
      "\n",
      "\n",
      "Personal Information:\r\n",
      "\r\n",
      "Name:Narala Akhil Reddy\r\n",
      "Date of Birth: 21-12-1997\r\n",
      "Email id:reddy.akhil65@gmail.com \r\n",
      "Mobile number:+91 9999988888\r\n",
      "Address for Communication:Hyderabad, Secunderabad.\r\n",
      "\r\n",
      "EDUCATION\r\n",
      "\r\n",
      "Bachelor of Technology (B.Tech), CSE (2015 - 2019) VNR Vignana Jyothi Institute of Engineering and Technology\r\n",
      " CGPA : 8.60/10\r\n",
      "XII (Senior Secondary),Year of Completion: 2015 BIE-TELANGANA Board (Narayana Junior College) CGPA : 9.59/10\r\n",
      "X (Secondary) Year of Completion: 2013 SSC Board (Sri Chaitanya Techno School) CGPA : 9.20/10\r\n",
      "\r\n",
      "SKILLS Java Intermediate\r\n",
      "\r\n",
      "C Programming Intermediate\r\n",
      "C++ Programming Intermediate\r\n",
      "Database Management System (DBMS) Intermediate\r\n",
      "MS-Office Intermediate\r\n",
      "SQL Intermediate\r\n",
      "Python Beginner\n",
      "\n",
      "------------------------------------------------------------------------------------------------------\n",
      "Starting Resume Parsing\n",
      "Email ids :\n",
      "\t reddy.akhil65@gmail.com\n",
      "Phone No.s :\n",
      "\t +91 9999988888\n",
      "Addresses :\n",
      "\t Address for Communication:Hyderabad, Secunderabad.\n",
      "Dates :\n",
      "\t 21-12-1997\n"
     ]
    }
   ],
   "source": [
    "#Resume Parsing\n",
    "import tika\n",
    "from tika import parser\n",
    "import re\n",
    "class ResumeParsing :\n",
    "    def parseAnyFile() :\n",
    "        tika.initVM()\n",
    "        parsed = parser.from_file('MyResume.txt')\n",
    "        content = parsed[\"content\"]\n",
    "        print(content+'\\n------------------------------------------------------------------------------------------------------')\n",
    "        print(\"Starting Resume Parsing\")\n",
    "        emails = re.findall(r'[\\w\\.-]+@[\\w\\.-]+', content)\n",
    "        phnos = re.findall(r'[+0-9 ]{10,15}', content)\n",
    "        addresses = re.findall(r'Address[\\w /,-:]+[.]', content)\n",
    "        dates = re.findall(r'[0-9]+[,/-]+[0-9]+[,/-]+[0-9]{2,4}', content)\n",
    "        dollars = re.findall(r'\\$[0-9]*[,[0-9]*]*\\ ', content)\n",
    "        \n",
    "        print(\"Email ids :\")\n",
    "        for email in emails :\n",
    "            print('\\t', email)\n",
    "            \n",
    "        print(\"Phone No.s :\")\n",
    "        for phno in phnos :\n",
    "            print('\\t', phno)\n",
    "        \n",
    "        print(\"Addresses :\")\n",
    "        for address in addresses :\n",
    "            print('\\t', address)\n",
    "            \n",
    "        print(\"Dates :\")\n",
    "        for date in dates :\n",
    "            print('\\t', date)\n",
    "            \n",
    "    if __name__ == \"__main__\" :\n",
    "        parseAnyFile()"
   ]
  },
  {
   "cell_type": "code",
   "execution_count": null,
   "metadata": {
    "collapsed": true
   },
   "outputs": [],
   "source": []
  }
 ],
 "metadata": {
  "kernelspec": {
   "display_name": "Python 3",
   "language": "python",
   "name": "python3"
  },
  "language_info": {
   "codemirror_mode": {
    "name": "ipython",
    "version": 3
   },
   "file_extension": ".py",
   "mimetype": "text/x-python",
   "name": "python",
   "nbconvert_exporter": "python",
   "pygments_lexer": "ipython3",
   "version": "3.6.2"
  }
 },
 "nbformat": 4,
 "nbformat_minor": 2
}
